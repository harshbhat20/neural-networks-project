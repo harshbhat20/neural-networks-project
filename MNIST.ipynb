{
 "cells": [
  {
   "cell_type": "markdown",
   "metadata": {
    "id": "wfWJSlkItKxw"
   },
   "source": [
    "# Using Neural Networks on MNIST Data "
   ]
  },
  {
   "cell_type": "code",
   "execution_count": 1,
   "metadata": {
    "id": "WpoxCD28AOAj"
   },
   "outputs": [],
   "source": [
    "import pandas as pd\n",
    "import numpy as np\n",
    "import keras\n",
    "from tensorflow.keras.utils import to_categorical\n",
    "import warnings\n",
    "warnings.filterwarnings('ignore')\n",
    "from tensorflow.keras.callbacks import ModelCheckpoint, ReduceLROnPlateau"
   ]
  },
  {
   "cell_type": "markdown",
   "metadata": {
    "id": "tcMJzRU-tS9B"
   },
   "source": [
    "## Reading the data"
   ]
  },
  {
   "cell_type": "code",
   "execution_count": 2,
   "metadata": {
    "colab": {
     "background_save": true,
     "base_uri": "https://localhost:8080/"
    },
    "id": "GxJJQImBNTia",
    "outputId": "5316ce29-e269-4504-a479-db8cbf7ecc16"
   },
   "outputs": [
    {
     "name": "stdout",
     "output_type": "stream",
     "text": [
      "Downloading data from https://storage.googleapis.com/tensorflow/tf-keras-datasets/mnist.npz\n",
      "\u001b[1m11490434/11490434\u001b[0m \u001b[32m━━━━━━━━━━━━━━━━━━━━\u001b[0m\u001b[37m\u001b[0m \u001b[1m2s\u001b[0m 0us/step\n"
     ]
    }
   ],
   "source": [
    "from keras.datasets import mnist\n",
    "(x_train, y_train), (x_test, y_test) = mnist.load_data()"
   ]
  },
  {
   "cell_type": "code",
   "execution_count": 3,
   "metadata": {
    "colab": {
     "background_save": true,
     "base_uri": "https://localhost:8080/"
    },
    "id": "Q_4ngGpdNwpg",
    "outputId": "09af09e2-b86c-4421-eece-fc28ef01a542"
   },
   "outputs": [
    {
     "name": "stdout",
     "output_type": "stream",
     "text": [
      "(60000, 28, 28)\n",
      "(10000, 28, 28)\n",
      "(60000,)\n",
      "(10000,)\n"
     ]
    }
   ],
   "source": [
    "print(x_train.shape)\n",
    "print(x_test.shape)\n",
    "print(y_train.shape)\n",
    "print(y_test.shape)"
   ]
  },
  {
   "cell_type": "code",
   "execution_count": 4,
   "metadata": {
    "colab": {
     "background_save": true,
     "base_uri": "https://localhost:8080/"
    },
    "id": "gBxa4e3-Xeex",
    "outputId": "05bf6eaa-c4c0-4248-f426-5fdad99ef86c"
   },
   "outputs": [
    {
     "data": {
      "text/plain": [
       "5"
      ]
     },
     "execution_count": 4,
     "metadata": {},
     "output_type": "execute_result"
    }
   ],
   "source": [
    "y_train[0]"
   ]
  },
  {
   "cell_type": "markdown",
   "metadata": {
    "id": "7yi_xTOEtYw0"
   },
   "source": [
    "## Visualizing images from our data"
   ]
  },
  {
   "cell_type": "code",
   "execution_count": 5,
   "metadata": {
    "colab": {
     "base_uri": "https://localhost:8080/",
     "height": 95
    },
    "id": "4CP0IKIdOgs-",
    "outputId": "e85f34d7-7f7c-4c59-ced6-ab7c186f0be8"
   },
   "outputs": [
    {
     "data": {
      "image/png": "[encoded data removed]",
      "text/plain": [
       "<Figure size 1000x100 with 10 Axes>"
      ]
     },
     "metadata": {},
     "output_type": "display_data"
    },
    {
     "name": "stdout",
     "output_type": "stream",
     "text": [
      "label for each of the above image: [5 0 4 1 9 2 1 3 1 4]\n"
     ]
    }
   ],
   "source": [
    "# visualizing the first 10 images in the dataset and their labels\n",
    "%matplotlib inline\n",
    "import matplotlib.pyplot as plt\n",
    "plt.figure(figsize=(10, 1))\n",
    "for i in range(10):\n",
    "    plt.subplot(1, 10, i+1)\n",
    "    plt.imshow(x_train[i], cmap=\"gray\")\n",
    "    plt.axis('off')\n",
    "plt.show()\n",
    "print('label for each of the above image: %s' % (y_train[0:10]))"
   ]
  },
  {
   "cell_type": "markdown",
   "metadata": {
    "id": "V8RfTsqEth4T"
   },
   "source": [
    "## Normalizing our train and test data"
   ]
  },
  {
   "cell_type": "code",
   "execution_count": 6,
   "metadata": {
    "colab": {
     "base_uri": "https://localhost:8080/"
    },
    "id": "qzz6OTOdOzg_",
    "outputId": "f1b4999c-b2fd-4669-f15f-90ae22bf9de3"
   },
   "outputs": [
    {
     "name": "stdout",
     "output_type": "stream",
     "text": [
      "Training set (60000, 784) (60000,)\n",
      "Test set (10000, 784) (10000,)\n"
     ]
    }
   ],
   "source": [
    "# Flatten the images\n",
    "image_vector_size = 28*28\n",
    "x_train = x_train.reshape(x_train.shape[0], image_vector_size)\n",
    "x_test = x_test.reshape(x_test.shape[0], image_vector_size)\n",
    "\n",
    "# # normalize inputs from 0-255 to 0-1\n",
    "x_train = x_train / 255.0\n",
    "x_test = x_test / 255.0\n",
    "\n",
    "print('Training set', x_train.shape, y_train.shape)\n",
    "print('Test set', x_test.shape, y_test.shape)"
   ]
  },
  {
   "cell_type": "markdown",
   "metadata": {
    "id": "u80k7vtPtpKc"
   },
   "source": [
    "## One-Hot Encoding on the target variables"
   ]
  },
  {
   "cell_type": "code",
   "execution_count": 7,
   "metadata": {
    "id": "4EzccWfUPl_l"
   },
   "outputs": [],
   "source": [
    "# Convert to \"one-hot\" vectors using the to_categorical function\n",
    "num_classes = 10\n",
    "y_train = to_categorical(y_train, num_classes)\n",
    "y_test_cat=to_categorical(y_test,num_classes)"
   ]
  },
  {
   "cell_type": "code",
   "execution_count": 8,
   "metadata": {
    "colab": {
     "base_uri": "https://localhost:8080/"
    },
    "id": "Ouv10gYwZFfR",
    "outputId": "66c7d9aa-8387-4870-cd24-af503ff74627"
   },
   "outputs": [
    {
     "name": "stdout",
     "output_type": "stream",
     "text": [
      "First 5 training lables as one-hot encoded vectors:\n",
      " [[0. 0. 0. 0. 0. 1. 0. 0. 0. 0.]\n",
      " [1. 0. 0. 0. 0. 0. 0. 0. 0. 0.]\n",
      " [0. 0. 0. 0. 1. 0. 0. 0. 0. 0.]\n",
      " [0. 1. 0. 0. 0. 0. 0. 0. 0. 0.]\n",
      " [0. 0. 0. 0. 0. 0. 0. 0. 0. 1.]]\n"
     ]
    }
   ],
   "source": [
    "print(\"First 5 training lables as one-hot encoded vectors:\\n\", y_train[:5])"
   ]
  },
  {
   "cell_type": "markdown",
   "metadata": {
    "id": "la0FEOcCttt9"
   },
   "source": [
    "## Defining the Sequential Model"
   ]
  },
  {
   "cell_type": "code",
   "execution_count": 9,
   "metadata": {
    "id": "_LvEzPxfQhVj"
   },
   "outputs": [],
   "source": [
    "# define model\n",
    "\n",
    "from tensorflow.keras import losses\n",
    "from tensorflow.keras import optimizers\n",
    "from tensorflow.keras import Sequential\n",
    "from tensorflow.keras.layers import Dense\n",
    "\n",
    "image_size=28*28\n",
    "\n",
    "# create model\n",
    "model = Sequential()  \n",
    "\n",
    "model.add(Dense(256, activation='relu',kernel_initializer='he_uniform',input_shape=(image_size,))) ###Multiple Dense units with Relu activation\n",
    "model.add(Dense(64, activation='relu',kernel_initializer='he_uniform'))\n",
    "model.add(Dense(64, activation='relu',kernel_initializer='he_uniform'))\n",
    "model.add(Dense(32, activation='relu',kernel_initializer='he_uniform'))\n",
    "\n",
    "model.add(Dense(num_classes, activation='softmax')) ### For multiclass classification Softmax is used "
   ]
  },
  {
   "cell_type": "code",
   "execution_count": 11,
   "metadata": {
    "id": "P3751ptOSe3r"
   },
   "outputs": [],
   "source": [
    "# Compile model\n",
    "#RMS_prop=optimizers.RMSprop()   ## we can similarly use different optimizers like RMSprop, Adagrad and SGD \n",
    "adam = optimizers.Adam(learning_rate=1e-3)\n",
    "model.compile(loss=losses.categorical_crossentropy, optimizer=adam, metrics=['accuracy']) ### Loss function = Categorical cross entropy"
   ]
  },
  {
   "cell_type": "code",
   "execution_count": 12,
   "metadata": {
    "colab": {
     "base_uri": "https://localhost:8080/"
    },
    "id": "qMTLLs33S446",
    "outputId": "1ef71ba7-b75a-4563-e980-a5025b87ad9b"
   },
   "outputs": [
    {
     "data": {
      "text/html": [
       "<pre style=\"white-space:pre;overflow-x:auto;line-height:normal;font-family:Menlo,'DejaVu Sans Mono',consolas,'Courier New',monospace\"><span style=\"font-weight: bold\">Model: \"sequential\"</span>\n",
       "</pre>\n"
      ],
      "text/plain": [
       "\u001b[1mModel: \"sequential\"\u001b[0m\n"
      ]
     },
     "metadata": {},
     "output_type": "display_data"
    },
    {
     "data": {
      "text/html": [
       "<pre style=\"white-space:pre;overflow-x:auto;line-height:normal;font-family:Menlo,'DejaVu Sans Mono',consolas,'Courier New',monospace\">┏━━━━━━━━━━━━━━━━━━━━━━━━━━━━━━━━━┳━━━━━━━━━━━━━━━━━━━━━━━━┳━━━━━━━━━━━━━━━┓\n",
       "┃<span style=\"font-weight: bold\"> Layer (type)                    </span>┃<span style=\"font-weight: bold\"> Output Shape           </span>┃<span style=\"font-weight: bold\">       Param # </span>┃\n",
       "┡━━━━━━━━━━━━━━━━━━━━━━━━━━━━━━━━━╇━━━━━━━━━━━━━━━━━━━━━━━━╇━━━━━━━━━━━━━━━┩\n",
       "│ dense (<span style=\"color: #0087ff; text-decoration-color: #0087ff\">Dense</span>)                   │ (<span style=\"color: #00d7ff; text-decoration-color: #00d7ff\">None</span>, <span style=\"color: #00af00; text-decoration-color: #00af00\">256</span>)            │       <span style=\"color: #00af00; text-decoration-color: #00af00\">200,960</span> │\n",
       "├─────────────────────────────────┼────────────────────────┼───────────────┤\n",
       "│ dense_1 (<span style=\"color: #0087ff; text-decoration-color: #0087ff\">Dense</span>)                 │ (<span style=\"color: #00d7ff; text-decoration-color: #00d7ff\">None</span>, <span style=\"color: #00af00; text-decoration-color: #00af00\">64</span>)             │        <span style=\"color: #00af00; text-decoration-color: #00af00\">16,448</span> │\n",
       "├─────────────────────────────────┼────────────────────────┼───────────────┤\n",
       "│ dense_2 (<span style=\"color: #0087ff; text-decoration-color: #0087ff\">Dense</span>)                 │ (<span style=\"color: #00d7ff; text-decoration-color: #00d7ff\">None</span>, <span style=\"color: #00af00; text-decoration-color: #00af00\">64</span>)             │         <span style=\"color: #00af00; text-decoration-color: #00af00\">4,160</span> │\n",
       "├─────────────────────────────────┼────────────────────────┼───────────────┤\n",
       "│ dense_3 (<span style=\"color: #0087ff; text-decoration-color: #0087ff\">Dense</span>)                 │ (<span style=\"color: #00d7ff; text-decoration-color: #00d7ff\">None</span>, <span style=\"color: #00af00; text-decoration-color: #00af00\">32</span>)             │         <span style=\"color: #00af00; text-decoration-color: #00af00\">2,080</span> │\n",
       "├─────────────────────────────────┼────────────────────────┼───────────────┤\n",
       "│ dense_4 (<span style=\"color: #0087ff; text-decoration-color: #0087ff\">Dense</span>)                 │ (<span style=\"color: #00d7ff; text-decoration-color: #00d7ff\">None</span>, <span style=\"color: #00af00; text-decoration-color: #00af00\">10</span>)             │           <span style=\"color: #00af00; text-decoration-color: #00af00\">330</span> │\n",
       "└─────────────────────────────────┴────────────────────────┴───────────────┘\n",
       "</pre>\n"
      ],
      "text/plain": [
       "┏━━━━━━━━━━━━━━━━━━━━━━━━━━━━━━━━━┳━━━━━━━━━━━━━━━━━━━━━━━━┳━━━━━━━━━━━━━━━┓\n",
       "┃\u001b[1m \u001b[0m\u001b[1mLayer (type)                   \u001b[0m\u001b[1m \u001b[0m┃\u001b[1m \u001b[0m\u001b[1mOutput Shape          \u001b[0m\u001b[1m \u001b[0m┃\u001b[1m \u001b[0m\u001b[1m      Param #\u001b[0m\u001b[1m \u001b[0m┃\n",
       "┡━━━━━━━━━━━━━━━━━━━━━━━━━━━━━━━━━╇━━━━━━━━━━━━━━━━━━━━━━━━╇━━━━━━━━━━━━━━━┩\n",
       "│ dense (\u001b[38;5;33mDense\u001b[0m)                   │ (\u001b[38;5;45mNone\u001b[0m, \u001b[38;5;34m256\u001b[0m)            │       \u001b[38;5;34m200,960\u001b[0m │\n",
       "├─────────────────────────────────┼────────────────────────┼───────────────┤\n",
       "│ dense_1 (\u001b[38;5;33mDense\u001b[0m)                 │ (\u001b[38;5;45mNone\u001b[0m, \u001b[38;5;34m64\u001b[0m)             │        \u001b[38;5;34m16,448\u001b[0m │\n",
       "├─────────────────────────────────┼────────────────────────┼───────────────┤\n",
       "│ dense_2 (\u001b[38;5;33mDense\u001b[0m)                 │ (\u001b[38;5;45mNone\u001b[0m, \u001b[38;5;34m64\u001b[0m)             │         \u001b[38;5;34m4,160\u001b[0m │\n",
       "├─────────────────────────────────┼────────────────────────┼───────────────┤\n",
       "│ dense_3 (\u001b[38;5;33mDense\u001b[0m)                 │ (\u001b[38;5;45mNone\u001b[0m, \u001b[38;5;34m32\u001b[0m)             │         \u001b[38;5;34m2,080\u001b[0m │\n",
       "├─────────────────────────────────┼────────────────────────┼───────────────┤\n",
       "│ dense_4 (\u001b[38;5;33mDense\u001b[0m)                 │ (\u001b[38;5;45mNone\u001b[0m, \u001b[38;5;34m10\u001b[0m)             │           \u001b[38;5;34m330\u001b[0m │\n",
       "└─────────────────────────────────┴────────────────────────┴───────────────┘\n"
      ]
     },
     "metadata": {},
     "output_type": "display_data"
    },
    {
     "data": {
      "text/html": [
       "<pre style=\"white-space:pre;overflow-x:auto;line-height:normal;font-family:Menlo,'DejaVu Sans Mono',consolas,'Courier New',monospace\"><span style=\"font-weight: bold\"> Total params: </span><span style=\"color: #00af00; text-decoration-color: #00af00\">223,978</span> (874.91 KB)\n",
       "</pre>\n"
      ],
      "text/plain": [
       "\u001b[1m Total params: \u001b[0m\u001b[38;5;34m223,978\u001b[0m (874.91 KB)\n"
      ]
     },
     "metadata": {},
     "output_type": "display_data"
    },
    {
     "data": {
      "text/html": [
       "<pre style=\"white-space:pre;overflow-x:auto;line-height:normal;font-family:Menlo,'DejaVu Sans Mono',consolas,'Courier New',monospace\"><span style=\"font-weight: bold\"> Trainable params: </span><span style=\"color: #00af00; text-decoration-color: #00af00\">223,978</span> (874.91 KB)\n",
       "</pre>\n"
      ],
      "text/plain": [
       "\u001b[1m Trainable params: \u001b[0m\u001b[38;5;34m223,978\u001b[0m (874.91 KB)\n"
      ]
     },
     "metadata": {},
     "output_type": "display_data"
    },
    {
     "data": {
      "text/html": [
       "<pre style=\"white-space:pre;overflow-x:auto;line-height:normal;font-family:Menlo,'DejaVu Sans Mono',consolas,'Courier New',monospace\"><span style=\"font-weight: bold\"> Non-trainable params: </span><span style=\"color: #00af00; text-decoration-color: #00af00\">0</span> (0.00 B)\n",
       "</pre>\n"
      ],
      "text/plain": [
       "\u001b[1m Non-trainable params: \u001b[0m\u001b[38;5;34m0\u001b[0m (0.00 B)\n"
      ]
     },
     "metadata": {},
     "output_type": "display_data"
    }
   ],
   "source": [
    "## Looking into our base model\n",
    "model.summary()"
   ]
  },
  {
   "cell_type": "code",
   "execution_count": 14,
   "metadata": {
    "id": "WvZ9dJ8M4D9U"
   },
   "outputs": [],
   "source": [
    "checkpoint = ModelCheckpoint(\"model.weights.h5\",monitor='val_accuracy',\n",
    "                            save_weights_only=True, mode='max',verbose=1)\n",
    "reduce_lr = ReduceLROnPlateau(monitor='val_loss',factor=0.1,patience=2,min_lr=0.00001,model='auto')\n",
    "\n",
    "callbacks = [checkpoint,reduce_lr]"
   ]
  },
  {
   "cell_type": "code",
   "execution_count": 15,
   "metadata": {
    "colab": {
     "base_uri": "https://localhost:8080/"
    },
    "id": "yLVwW55hSa67",
    "outputId": "e20e3388-b9ae-47e5-f4f9-8e59ab3c8225"
   },
   "outputs": [
    {
     "name": "stdout",
     "output_type": "stream",
     "text": [
      "Epoch 1/10\n",
      "\n",
      "Epoch 1: saving model to model.weights.h5\n",
      "375/375 - 1s - 4ms/step - accuracy: 0.8903 - loss: 0.3718 - val_accuracy: 0.9510 - val_loss: 0.1599 - learning_rate: 0.0010\n",
      "Epoch 2/10\n",
      "\n",
      "Epoch 2: saving model to model.weights.h5\n",
      "375/375 - 1s - 3ms/step - accuracy: 0.9619 - loss: 0.1288 - val_accuracy: 0.9624 - val_loss: 0.1233 - learning_rate: 0.0010\n",
      "Epoch 3/10\n",
      "\n",
      "Epoch 3: saving model to model.weights.h5\n",
      "375/375 - 1s - 2ms/step - accuracy: 0.9730 - loss: 0.0881 - val_accuracy: 0.9679 - val_loss: 0.1050 - learning_rate: 0.0010\n",
      "Epoch 4/10\n",
      "\n",
      "Epoch 4: saving model to model.weights.h5\n",
      "375/375 - 1s - 2ms/step - accuracy: 0.9808 - loss: 0.0633 - val_accuracy: 0.9718 - val_loss: 0.0925 - learning_rate: 0.0010\n",
      "Epoch 5/10\n",
      "\n",
      "Epoch 5: saving model to model.weights.h5\n",
      "375/375 - 1s - 2ms/step - accuracy: 0.9856 - loss: 0.0461 - val_accuracy: 0.9717 - val_loss: 0.1003 - learning_rate: 0.0010\n",
      "Epoch 6/10\n",
      "\n",
      "Epoch 6: saving model to model.weights.h5\n",
      "375/375 - 1s - 2ms/step - accuracy: 0.9891 - loss: 0.0348 - val_accuracy: 0.9751 - val_loss: 0.0874 - learning_rate: 0.0010\n",
      "Epoch 7/10\n",
      "\n",
      "Epoch 7: saving model to model.weights.h5\n",
      "375/375 - 1s - 2ms/step - accuracy: 0.9905 - loss: 0.0295 - val_accuracy: 0.9724 - val_loss: 0.1078 - learning_rate: 0.0010\n",
      "Epoch 8/10\n",
      "\n",
      "Epoch 8: saving model to model.weights.h5\n",
      "375/375 - 1s - 2ms/step - accuracy: 0.9928 - loss: 0.0237 - val_accuracy: 0.9765 - val_loss: 0.0950 - learning_rate: 0.0010\n",
      "Epoch 9/10\n",
      "\n",
      "Epoch 9: saving model to model.weights.h5\n",
      "375/375 - 1s - 2ms/step - accuracy: 0.9978 - loss: 0.0083 - val_accuracy: 0.9797 - val_loss: 0.0793 - learning_rate: 1.0000e-04\n",
      "Epoch 10/10\n",
      "\n",
      "Epoch 10: saving model to model.weights.h5\n",
      "375/375 - 1s - 2ms/step - accuracy: 0.9990 - loss: 0.0051 - val_accuracy: 0.9801 - val_loss: 0.0794 - learning_rate: 1.0000e-04\n"
     ]
    }
   ],
   "source": [
    "# Fit the model\n",
    "history=model.fit(x_train, y_train, validation_split=0.2, epochs=10, batch_size=128, verbose=2,callbacks=callbacks)"
   ]
  },
  {
   "cell_type": "code",
   "execution_count": null,
   "metadata": {
    "id": "hF5N_0XXD2ca"
   },
   "outputs": [],
   "source": [
    "import torch\n",
    "import torchvision\n",
    "import numpy as np\n",
    "import matplotlib\n",
    "import matplotlib.pyplot as plt\n",
    "import torch.nn as nn\n",
    "import torch.nn.functional as F\n",
    "from torchvision.datasets import MNIST\n",
    "from torchvision.transforms import ToTensor\n",
    "from torchvision.utils import make_grid\n",
    "from torch.utils.data.dataloader import DataLoader\n",
    "from torch.utils.data import random_split\n",
    "%matplotlib inline\n",
    "# Use a white background for matplotlib figures\n",
    "matplotlib.rcParams['figure.facecolor'] = '#ffffff'"
   ]
  },
  {
   "cell_type": "code",
   "execution_count": null,
   "metadata": {
    "colab": {
     "base_uri": "https://localhost:8080/"
    },
    "id": "VvYJ2JvAENOo",
    "outputId": "ae69bf82-5458-492c-f31c-828fb674e4e2"
   },
   "outputs": [
    {
     "data": {
      "text/plain": [
       "False"
      ]
     },
     "execution_count": 16,
     "metadata": {},
     "output_type": "execute_result"
    }
   ],
   "source": [
    "torch.cuda.is_available()"
   ]
  },
  {
   "cell_type": "code",
   "execution_count": null,
   "metadata": {
    "id": "B8GLais7XBDn"
   },
   "outputs": [],
   "source": [
    "# predicting the model on test data\n",
    "y_pred=model.predict(x_test)\n"
   ]
  },
  {
   "cell_type": "code",
   "execution_count": null,
   "metadata": {
    "colab": {
     "base_uri": "https://localhost:8080/"
    },
    "id": "K01XP9CNaxyY",
    "outputId": "ef241532-8844-472c-9ccb-2a32a1cd2e38"
   },
   "outputs": [
    {
     "data": {
      "text/plain": [
       "array([7.1898910e-11, 2.2191518e-08, 9.7571281e-08, 1.8174127e-05,\n",
       "       8.7224022e-10, 4.5747513e-11, 4.9407405e-12, 9.9997950e-01,\n",
       "       2.9319580e-08, 2.2705951e-06], dtype=float32)"
      ]
     },
     "execution_count": 15,
     "metadata": {},
     "output_type": "execute_result"
    }
   ],
   "source": [
    "y_pred[0]"
   ]
  },
  {
   "cell_type": "code",
   "execution_count": null,
   "metadata": {
    "id": "5D5FLvn3X_VN"
   },
   "outputs": [],
   "source": [
    "# As our outputs are probabilities so we will try to get the output class from these probablities by getting the maximum value\n",
    "y_pred_final=[]\n",
    "for i in y_pred:\n",
    "  y_pred_final.append(np.argmax(i))"
   ]
  },
  {
   "cell_type": "code",
   "execution_count": null,
   "metadata": {
    "colab": {
     "base_uri": "https://localhost:8080/"
    },
    "id": "SM0tKCI9bByz",
    "outputId": "18cbb497-6153-4b6b-bd34-0f01177183d1"
   },
   "outputs": [
    {
     "data": {
      "text/plain": [
       "7"
      ]
     },
     "execution_count": 17,
     "metadata": {},
     "output_type": "execute_result"
    }
   ],
   "source": [
    "y_pred_final[0]\n"
   ]
  },
  {
   "cell_type": "markdown",
   "metadata": {
    "id": "dQ__UZypubY5"
   },
   "source": [
    "## Generating the Classification Report"
   ]
  },
  {
   "cell_type": "code",
   "execution_count": null,
   "metadata": {
    "colab": {
     "base_uri": "https://localhost:8080/"
    },
    "id": "G8WR5thXW1er",
    "outputId": "f3179a99-caa1-459f-95b1-8cf3184af023"
   },
   "outputs": [
    {
     "name": "stdout",
     "output_type": "stream",
     "text": [
      "              precision    recall  f1-score   support\n",
      "\n",
      "           0       0.99      0.99      0.99       980\n",
      "           1       0.99      0.99      0.99      1135\n",
      "           2       0.98      0.98      0.98      1032\n",
      "           3       0.97      0.98      0.98      1010\n",
      "           4       0.98      0.98      0.98       982\n",
      "           5       0.98      0.98      0.98       892\n",
      "           6       0.99      0.98      0.98       958\n",
      "           7       0.99      0.98      0.98      1028\n",
      "           8       0.98      0.98      0.98       974\n",
      "           9       0.98      0.98      0.98      1009\n",
      "\n",
      "    accuracy                           0.98     10000\n",
      "   macro avg       0.98      0.98      0.98     10000\n",
      "weighted avg       0.98      0.98      0.98     10000\n",
      "\n"
     ]
    }
   ],
   "source": [
    "from sklearn.metrics import classification_report\n",
    "print(classification_report(y_test,y_pred_final))"
   ]
  },
  {
   "cell_type": "markdown",
   "metadata": {
    "id": "CpRdFoieupqh"
   },
   "source": [
    "## Confusion Matrix"
   ]
  },
  {
   "cell_type": "code",
   "execution_count": null,
   "metadata": {
    "colab": {
     "base_uri": "https://localhost:8080/",
     "height": 442
    },
    "id": "6VdYmPDgZdL8",
    "outputId": "c017c824-db94-41e1-dacb-0a4e12807c85"
   },
   "outputs": [
    {
     "data": {
      "image/png": "[encoded data removed]",
      "text/plain": [
       "<Figure size 720x504 with 2 Axes>"
      ]
     },
     "metadata": {},
     "output_type": "display_data"
    }
   ],
   "source": [
    "from sklearn.metrics import confusion_matrix\n",
    "import seaborn as sns\n",
    "\n",
    "cm=confusion_matrix(y_test,y_pred_final)\n",
    "\n",
    "plt.figure(figsize=(10,7))\n",
    "sns.heatmap(cm,annot=True,fmt='d')\n",
    "plt.xlabel('Predicted')\n",
    "plt.ylabel('Truth')\n",
    "plt.show()"
   ]
  },
  {
   "cell_type": "markdown",
   "metadata": {
    "id": "GLhh3nxauyht"
   },
   "source": [
    "## Misclassified images"
   ]
  },
  {
   "cell_type": "code",
   "execution_count": null,
   "metadata": {
    "colab": {
     "base_uri": "https://localhost:8080/"
    },
    "id": "7FV3HGR7bMn9",
    "outputId": "833a27b8-1dde-44f8-bafe-e753a38124b4"
   },
   "outputs": [
    {
     "name": "stdout",
     "output_type": "stream",
     "text": [
      "[247, 321, 340, 381, 445, 447, 495, 582, 619, 659, 684, 691, 720, 740, 900, 947, 951, 965, 1014, 1044, 1112, 1128, 1156, 1182, 1192, 1226, 1232, 1242, 1247, 1319, 1378, 1393, 1395, 1444, 1522, 1530, 1553, 1581, 1609, 1681, 1686, 1751, 1790, 1850, 1901, 1941, 1987, 2004, 2035, 2053, 2063, 2070, 2109, 2118, 2135, 2182, 2291, 2293, 2325, 2329, 2369, 2387, 2408, 2433, 2454, 2488, 2597, 2607, 2648, 2654, 2730, 2743, 2877, 2921, 2927, 2930, 2939, 2953, 3073, 3117, 3289, 3373, 3375, 3388, 3405, 3451, 3503, 3520, 3558, 3559, 3681, 3727, 3776, 3796, 3808, 3811, 3838, 3893, 3906, 3943, 4027, 4065, 4078, 4140, 4163, 4176, 4199, 4224, 4248, 4289, 4294, 4500, 4536, 4551, 4571, 4731, 4740, 4751, 4807, 4823, 4861, 4880, 5331, 5457, 5600, 5642, 5676, 5734, 5887, 5936, 5937, 5955, 5973, 6024, 6045, 6421, 6555, 6560, 6572, 6574, 6576, 6597, 6651, 6755, 6783, 6847, 6926, 7208, 7216, 7259, 7434, 7451, 7921, 8059, 8094, 8128, 8246, 8325, 8522, 8527, 9009, 9015, 9024, 9280, 9587, 9634, 9664, 9679, 9698, 9729, 9768, 9770, 9777, 9792, 9808, 9839, 9944]\n",
      "177\n"
     ]
    }
   ],
   "source": [
    "index = 0\n",
    "misclassified_images = []\n",
    "for label, predict in zip(y_test, y_pred_final):\n",
    "    if label != predict: \n",
    "        misclassified_images.append(index)\n",
    "    index +=1\n",
    "print(misclassified_images)\n",
    "print(len(misclassified_images))"
   ]
  },
  {
   "cell_type": "markdown",
   "metadata": {
    "id": "5j1U2Js1u4OB"
   },
   "source": [
    "## Predicting the output"
   ]
  },
  {
   "cell_type": "code",
   "execution_count": null,
   "metadata": {
    "colab": {
     "base_uri": "https://localhost:8080/",
     "height": 333
    },
    "collapsed": true,
    "id": "T6fN12oQUIfC",
    "outputId": "ccafa453-c718-4262-cede-5cde4fdb7183"
   },
   "outputs": [
    {
     "name": "stdout",
     "output_type": "stream",
     "text": [
      "Was predicted  0\n",
      "Was labeled  6\n",
      "Predicted Probabilities:  [[8.4977341e-01 4.3730297e-06 5.1355346e-07 7.6809030e-08 1.0476650e-06\n",
      "  3.5130593e-05 1.4423952e-01 5.9298570e-03 1.4800710e-05 1.3183655e-06]]\n"
     ]
    },
    {
     "data": {
      "image/png": "[encoded data removed]",
      "text/plain": [
       "<Figure size 432x288 with 1 Axes>"
      ]
     },
     "metadata": {},
     "output_type": "display_data"
    }
   ],
   "source": [
    "image_index = 445\n",
    "plt.imshow(x_test[image_index].reshape(28, 28),cmap='Greys')\n",
    "pred = model.predict(x_test[image_index].reshape(-1, 784))\n",
    "print(\"Was predicted \",pred.argmax())\n",
    "print(\"Was labeled \",y_test[image_index])\n",
    "print(\"Predicted Probabilities: \",pred)"
   ]
  },
  {
   "cell_type": "markdown",
   "metadata": {
    "id": "paaC3Etwu_EI"
   },
   "source": [
    "## Accuracy Curve"
   ]
  },
  {
   "cell_type": "code",
   "execution_count": null,
   "metadata": {
    "colab": {
     "base_uri": "https://localhost:8080/",
     "height": 295
    },
    "id": "WsYXFGdydw-i",
    "outputId": "6337129b-d50c-490c-c0a5-ee080b08fa29"
   },
   "outputs": [
    {
     "data": {
      "image/png": "[encoded data removed]",
      "text/plain": [
       "<Figure size 432x288 with 1 Axes>"
      ]
     },
     "metadata": {},
     "output_type": "display_data"
    }
   ],
   "source": [
    "loss, accuracy  = model.evaluate(x_test, y_test_cat, verbose=False)\n",
    "    \n",
    "plt.plot(history.history['accuracy'])\n",
    "plt.plot(history.history['val_accuracy'])\n",
    "plt.title('model accuracy')\n",
    "plt.ylabel('accuracy')\n",
    "plt.xlabel('epoch')\n",
    "plt.legend(['training', 'validation'], loc='best')\n",
    "plt.show()"
   ]
  },
  {
   "cell_type": "markdown",
   "metadata": {
    "id": "-JD472gVvnuf"
   },
   "source": [
    "## Model 2"
   ]
  },
  {
   "cell_type": "markdown",
   "metadata": {
    "id": "TvAuaFdyvQi-"
   },
   "source": [
    "In our first model we have implemented a simple neural network on MNIST data.\n",
    "\n",
    "Now we will try to observe how Batch Normalization and Dropout can be used in our model. "
   ]
  },
  {
   "cell_type": "markdown",
   "metadata": {
    "id": "DMqlwY6HfVzU"
   },
   "source": [
    "## Using Batch Normalization and Dropout"
   ]
  },
  {
   "cell_type": "code",
   "execution_count": null,
   "metadata": {
    "id": "O4a6ERT6ePC1"
   },
   "outputs": [],
   "source": [
    "# define model\n",
    "\n",
    "from tensorflow.keras import losses\n",
    "from tensorflow.keras import optimizers\n",
    "from keras import Sequential\n",
    "from tensorflow.keras.layers import Dense\n",
    "from tensorflow.keras.layers import BatchNormalization\n",
    "from tensorflow.keras.layers import Dropout\n",
    "\n",
    "image_size=28*28\n",
    "\n",
    "# create model\n",
    "model_1 = Sequential()  \n",
    "\n",
    "model_1.add(Dense(256, activation='relu',kernel_initializer='he_uniform',input_shape=(image_size,))) ###Multiple Dense units with Relu activation\n",
    "model_1.add(Dense(64, activation='relu',kernel_initializer='he_uniform'))\n",
    "model_1.add(Dense(64, activation='relu',kernel_initializer='he_uniform'))## Weight Initialization\n",
    "model_1.add(Dense(32, activation='relu',kernel_initializer='he_uniform'))\n",
    "model_1.add(Dropout(0.5))\n",
    "model_1.add(BatchNormalization())\n",
    "model_1.add(Dense(num_classes, activation='softmax')) ### For multiclass classification Softmax is used "
   ]
  },
  {
   "cell_type": "code",
   "execution_count": null,
   "metadata": {
    "id": "XF6qWlRngU6S"
   },
   "outputs": [],
   "source": [
    "# Compile model\n",
    "adam = optimizers.Adam(lr=1e-3)\n",
    "model_1.compile(loss=losses.categorical_crossentropy, optimizer=adam, metrics=['accuracy']) ### Loss function = Categorical cross entropy"
   ]
  },
  {
   "cell_type": "code",
   "execution_count": null,
   "metadata": {
    "colab": {
     "base_uri": "https://localhost:8080/"
    },
    "id": "VdYCjKwRg_7w",
    "outputId": "98a4dcf3-d929-46df-804f-3bc787471d6c"
   },
   "outputs": [
    {
     "name": "stdout",
     "output_type": "stream",
     "text": [
      "Model: \"sequential_2\"\n",
      "_________________________________________________________________\n",
      " Layer (type)                Output Shape              Param #   \n",
      "=================================================================\n",
      " dense_10 (Dense)            (None, 256)               200960    \n",
      "                                                                 \n",
      " dense_11 (Dense)            (None, 64)                16448     \n",
      "                                                                 \n",
      " dense_12 (Dense)            (None, 64)                4160      \n",
      "                                                                 \n",
      " dense_13 (Dense)            (None, 32)                2080      \n",
      "                                                                 \n",
      " dropout_1 (Dropout)         (None, 32)                0         \n",
      "                                                                 \n",
      " batch_normalization_1 (Batc  (None, 32)               128       \n",
      " hNormalization)                                                 \n",
      "                                                                 \n",
      " dense_14 (Dense)            (None, 10)                330       \n",
      "                                                                 \n",
      "=================================================================\n",
      "Total params: 224,106\n",
      "Trainable params: 224,042\n",
      "Non-trainable params: 64\n",
      "_________________________________________________________________\n"
     ]
    }
   ],
   "source": [
    "model_1.summary()"
   ]
  },
  {
   "cell_type": "code",
   "execution_count": null,
   "metadata": {
    "id": "3ocU490l3pLb"
   },
   "outputs": [],
   "source": [
    "checkpoint = ModelCheckpoint(\"model_weights_1.h5\",monitor='val_accuracy',\n",
    "                            save_weights_only=True, model='max',verbose=1)\n",
    "reduce_lr = ReduceLROnPlateau(monitor='val_loss',factor=0.1,patience=2,min_lr=0.00001,model='auto')\n",
    "\n",
    "callbacks = [checkpoint,reduce_lr]"
   ]
  },
  {
   "cell_type": "code",
   "execution_count": null,
   "metadata": {
    "colab": {
     "base_uri": "https://localhost:8080/"
    },
    "id": "N3Ttpoa2hFJv",
    "outputId": "b8eb5d9e-a686-401f-df3b-8fc60c347d57"
   },
   "outputs": [
    {
     "name": "stdout",
     "output_type": "stream",
     "text": [
      "Epoch 1/10\n",
      "\n",
      "Epoch 00001: saving model to model_weights_1.h5\n",
      "375/375 - 3s - loss: 0.7151 - accuracy: 0.8064 - val_loss: 0.1899 - val_accuracy: 0.9542 - lr: 0.0010 - 3s/epoch - 9ms/step\n",
      "Epoch 2/10\n",
      "\n",
      "Epoch 00002: saving model to model_weights_1.h5\n",
      "375/375 - 2s - loss: 0.2857 - accuracy: 0.9302 - val_loss: 0.1198 - val_accuracy: 0.9657 - lr: 0.0010 - 2s/epoch - 7ms/step\n",
      "Epoch 3/10\n",
      "\n",
      "Epoch 00003: saving model to model_weights_1.h5\n",
      "375/375 - 2s - loss: 0.1985 - accuracy: 0.9509 - val_loss: 0.1099 - val_accuracy: 0.9690 - lr: 0.0010 - 2s/epoch - 6ms/step\n",
      "Epoch 4/10\n",
      "\n",
      "Epoch 00004: saving model to model_weights_1.h5\n",
      "375/375 - 2s - loss: 0.1575 - accuracy: 0.9595 - val_loss: 0.1023 - val_accuracy: 0.9729 - lr: 0.0010 - 2s/epoch - 6ms/step\n",
      "Epoch 5/10\n",
      "\n",
      "Epoch 00005: saving model to model_weights_1.h5\n",
      "375/375 - 2s - loss: 0.1348 - accuracy: 0.9646 - val_loss: 0.0954 - val_accuracy: 0.9747 - lr: 0.0010 - 2s/epoch - 6ms/step\n",
      "Epoch 6/10\n",
      "\n",
      "Epoch 00006: saving model to model_weights_1.h5\n",
      "375/375 - 2s - loss: 0.1120 - accuracy: 0.9707 - val_loss: 0.1074 - val_accuracy: 0.9731 - lr: 0.0010 - 2s/epoch - 6ms/step\n",
      "Epoch 7/10\n",
      "\n",
      "Epoch 00007: saving model to model_weights_1.h5\n",
      "375/375 - 2s - loss: 0.0997 - accuracy: 0.9725 - val_loss: 0.1117 - val_accuracy: 0.9717 - lr: 0.0010 - 2s/epoch - 6ms/step\n",
      "Epoch 8/10\n",
      "\n",
      "Epoch 00008: saving model to model_weights_1.h5\n",
      "375/375 - 2s - loss: 0.0703 - accuracy: 0.9808 - val_loss: 0.0834 - val_accuracy: 0.9792 - lr: 1.0000e-04 - 2s/epoch - 6ms/step\n",
      "Epoch 9/10\n",
      "\n",
      "Epoch 00009: saving model to model_weights_1.h5\n",
      "375/375 - 2s - loss: 0.0583 - accuracy: 0.9845 - val_loss: 0.0837 - val_accuracy: 0.9793 - lr: 1.0000e-04 - 2s/epoch - 6ms/step\n",
      "Epoch 10/10\n",
      "\n",
      "Epoch 00010: saving model to model_weights_1.h5\n",
      "375/375 - 2s - loss: 0.0573 - accuracy: 0.9851 - val_loss: 0.0828 - val_accuracy: 0.9807 - lr: 1.0000e-04 - 2s/epoch - 6ms/step\n"
     ]
    }
   ],
   "source": [
    "# Fit the model\n",
    "history=model_1.fit(x_train, y_train, validation_split=0.2, epochs=10, batch_size=128, verbose=2, callbacks=callbacks)"
   ]
  },
  {
   "cell_type": "code",
   "execution_count": null,
   "metadata": {
    "id": "lanZzwW-hKcf"
   },
   "outputs": [],
   "source": [
    "y_pred_1=model_1.predict(x_test)"
   ]
  },
  {
   "cell_type": "code",
   "execution_count": null,
   "metadata": {
    "id": "AEgEtGykhVfR"
   },
   "outputs": [],
   "source": [
    "y_pred_final_1=[]\n",
    "for i in y_pred_1:\n",
    "  y_pred_final_1.append(np.argmax(i))"
   ]
  },
  {
   "cell_type": "code",
   "execution_count": null,
   "metadata": {
    "colab": {
     "base_uri": "https://localhost:8080/"
    },
    "id": "vGZO0z-cheCi",
    "outputId": "e0c27ba0-4851-44e7-817d-8b32e35885bb"
   },
   "outputs": [
    {
     "name": "stdout",
     "output_type": "stream",
     "text": [
      "              precision    recall  f1-score   support\n",
      "\n",
      "           0       0.99      0.99      0.99       980\n",
      "           1       0.99      1.00      1.00      1135\n",
      "           2       0.98      0.98      0.98      1032\n",
      "           3       0.98      0.98      0.98      1010\n",
      "           4       0.99      0.97      0.98       982\n",
      "           5       0.98      0.98      0.98       892\n",
      "           6       0.99      0.98      0.98       958\n",
      "           7       0.98      0.98      0.98      1028\n",
      "           8       0.98      0.98      0.98       974\n",
      "           9       0.97      0.98      0.97      1009\n",
      "\n",
      "    accuracy                           0.98     10000\n",
      "   macro avg       0.98      0.98      0.98     10000\n",
      "weighted avg       0.98      0.98      0.98     10000\n",
      "\n"
     ]
    }
   ],
   "source": [
    "from sklearn.metrics import classification_report\n",
    "print(classification_report(y_test,y_pred_final_1))"
   ]
  },
  {
   "cell_type": "code",
   "execution_count": null,
   "metadata": {
    "id": "u9QpcoZzhkP3"
   },
   "outputs": [],
   "source": [
    "from sklearn.metrics import confusion_matrix\n",
    "cm_1=confusion_matrix(y_test,y_pred_final_1)"
   ]
  },
  {
   "cell_type": "code",
   "execution_count": null,
   "metadata": {
    "colab": {
     "base_uri": "https://localhost:8080/",
     "height": 459
    },
    "id": "CcM8g7kMhp8N",
    "outputId": "214c276c-98e5-48a9-a069-eff5d864190e"
   },
   "outputs": [
    {
     "data": {
      "text/plain": [
       "Text(69.0, 0.5, 'Truth')"
      ]
     },
     "execution_count": 46,
     "metadata": {},
     "output_type": "execute_result"
    },
    {
     "data": {
      "image/png": "[encoded data removed]",
      "text/plain": [
       "<Figure size 720x504 with 2 Axes>"
      ]
     },
     "metadata": {},
     "output_type": "display_data"
    }
   ],
   "source": [
    "plt.figure(figsize=(10,7))\n",
    "sns.heatmap(cm_1,annot=True,fmt='d')\n",
    "plt.xlabel('Predicted')\n",
    "plt.ylabel('Truth')"
   ]
  },
  {
   "cell_type": "code",
   "execution_count": null,
   "metadata": {
    "colab": {
     "base_uri": "https://localhost:8080/"
    },
    "id": "0dZ8vu1MzlFO",
    "outputId": "983aa6f4-0dfc-4e26-8dca-3893e552a1d1"
   },
   "outputs": [
    {
     "name": "stdout",
     "output_type": "stream",
     "text": [
      "[115, 149, 151, 247, 340, 495, 582, 583, 684, 707, 720, 740, 813, 877, 882, 947, 951, 1014, 1039, 1044, 1107, 1112, 1156, 1182, 1226, 1232, 1242, 1247, 1319, 1328, 1393, 1395, 1425, 1444, 1496, 1522, 1530, 1549, 1553, 1621, 1626, 1681, 1709, 1751, 1790, 1901, 1903, 1911, 1955, 2024, 2035, 2053, 2070, 2098, 2109, 2130, 2135, 2148, 2293, 2369, 2387, 2414, 2422, 2454, 2488, 2607, 2648, 2654, 2743, 2877, 2915, 2921, 2939, 2995, 3030, 3073, 3117, 3225, 3490, 3503, 3520, 3533, 3549, 3558, 3559, 3567, 3597, 3751, 3776, 3780, 3808, 3811, 3853, 3869, 3893, 3906, 3941, 4065, 4078, 4176, 4199, 4224, 4248, 4256, 4289, 4294, 4369, 4382, 4443, 4497, 4504, 4536, 4575, 4635, 4723, 4731, 4807, 4814, 4823, 4860, 4879, 4880, 5246, 5457, 5586, 5642, 5654, 5676, 5734, 5887, 5891, 5937, 5955, 5972, 5973, 6009, 6011, 6023, 6035, 6059, 6421, 6505, 6555, 6558, 6559, 6597, 6625, 6651, 6755, 6783, 7216, 7434, 8059, 8246, 8277, 8325, 8456, 8520, 8527, 9009, 9015, 9019, 9024, 9587, 9634, 9664, 9698, 9700, 9729, 9742, 9745, 9749, 9768, 9770, 9792, 9839, 9982]\n",
      "177\n"
     ]
    }
   ],
   "source": [
    "index = 0\n",
    "misclassified_images = []\n",
    "for label, predict in zip(y_test, y_pred_final_1):\n",
    "    if label != predict: \n",
    "        misclassified_images.append(index)\n",
    "    index +=1\n",
    "print(misclassified_images)\n",
    "print(len(misclassified_images))"
   ]
  },
  {
   "cell_type": "code",
   "execution_count": null,
   "metadata": {
    "colab": {
     "base_uri": "https://localhost:8080/",
     "height": 333
    },
    "id": "RQXa4gEqh4yW",
    "outputId": "2a55b9f2-0af7-4214-a307-5dde04ac3d8b"
   },
   "outputs": [
    {
     "name": "stdout",
     "output_type": "stream",
     "text": [
      "Was predicted  9\n",
      "Was labeled  4\n",
      "Predicted Probabilities:  [[0.00610751 0.00282953 0.00169235 0.00351433 0.09394366 0.00107936\n",
      "  0.00107226 0.00125384 0.0009823  0.88752496]]\n"
     ]
    },
    {
     "data": {
      "image/png": "[encoded data removed]",
      "text/plain": [
       "<Figure size 432x288 with 1 Axes>"
      ]
     },
     "metadata": {},
     "output_type": "display_data"
    }
   ],
   "source": [
    "image_index = 115\n",
    "plt.imshow(x_test[image_index].reshape(28, 28),cmap='Greys')\n",
    "pred = model_1.predict(x_test[image_index].reshape(-1, 784))\n",
    "print(\"Was predicted \",pred.argmax())\n",
    "print(\"Was labeled \",y_test[image_index])\n",
    "print(\"Predicted Probabilities: \",pred)"
   ]
  },
  {
   "cell_type": "code",
   "execution_count": null,
   "metadata": {
    "colab": {
     "base_uri": "https://localhost:8080/",
     "height": 295
    },
    "id": "aVgkHx4AzK9X",
    "outputId": "ac4df8cb-2e5c-44f4-dc91-56394858eab6"
   },
   "outputs": [
    {
     "data": {
      "image/png": "[encoded data removed]",
      "text/plain": [
       "<Figure size 432x288 with 1 Axes>"
      ]
     },
     "metadata": {},
     "output_type": "display_data"
    }
   ],
   "source": [
    "loss, accuracy  = model_1.evaluate(x_test, y_test_cat, verbose=False)\n",
    "    \n",
    "plt.plot(history.history['accuracy'])\n",
    "plt.plot(history.history['val_accuracy'])\n",
    "plt.title('model accuracy')\n",
    "plt.ylabel('accuracy')\n",
    "plt.xlabel('epoch')\n",
    "plt.legend(['training', 'validation'], loc='best')\n",
    "plt.show()"
   ]
  },
  {
   "cell_type": "markdown",
   "metadata": {
    "id": "7rojee-LwAjq"
   },
   "source": [
    "# Summary\n",
    "\n",
    "1. We can observe from our both models that model with batch normalization and dropout is performing similar in terms of misclassifications.\n",
    "2. However, the accuracy curve for train and validation shows that our model with dropout and batch normalization is much less an overfit.\n",
    "3. Thus we achieve higher accuracy score of 97% to 98%."
   ]
  }
 ],
 "metadata": {
  "accelerator": "TPU",
  "colab": {
   "collapsed_sections": [
    "tcMJzRU-tS9B",
    "7yi_xTOEtYw0",
    "V8RfTsqEth4T",
    "u80k7vtPtpKc",
    "la0FEOcCttt9",
    "dQ__UZypubY5",
    "CpRdFoieupqh",
    "GLhh3nxauyht",
    "5j1U2Js1u4OB",
    "paaC3Etwu_EI"
   ],
   "name": "MNIST.ipynb",
   "provenance": []
  },
  "kernelspec": {
   "display_name": "Python 3 (ipykernel)",
   "language": "python",
   "name": "python3"
  },
  "language_info": {
   "codemirror_mode": {
    "name": "ipython",
    "version": 3
   },
   "file_extension": ".py",
   "mimetype": "text/x-python",
   "name": "python",
   "nbconvert_exporter": "python",
   "pygments_lexer": "ipython3",
   "version": "3.10.14"
  }
 },
 "nbformat": 4,
 "nbformat_minor": 1
}
